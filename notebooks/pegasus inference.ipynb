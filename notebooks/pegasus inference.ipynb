{
 "cells": [
  {
   "cell_type": "code",
   "execution_count": 5,
   "id": "occasional-poker",
   "metadata": {},
   "outputs": [],
   "source": [
    "from transformers import PegasusForConditionalGeneration, PegasusTokenizer\n",
    "import torch"
   ]
  },
  {
   "cell_type": "code",
   "execution_count": 8,
   "id": "directed-roots",
   "metadata": {},
   "outputs": [],
   "source": [
    "model_name = 'google/pegasus-xsum'\n",
    "torch_device = 'cuda' if torch.cuda.is_available() else 'cpu'\n",
    "tokenizer = PegasusTokenizer.from_pretrained(model_name)\n",
    "model = PegasusForConditionalGeneration.from_pretrained(model_name).to(torch_device)"
   ]
  },
  {
   "cell_type": "code",
   "execution_count": 22,
   "id": "flush-albania",
   "metadata": {},
   "outputs": [
    {
     "name": "stdout",
     "output_type": "stream",
     "text": [
      "this happened 5/6 years ago so my whole family every xmas day goes around to my aunties for celebrations. my cousin (of course) was there and he asked if i wanted to play cops and robbers. i accepted of course. now, next to the side of my aunts house is a little area with a small fence, a covered water tank and super duper sharp stones. my cousin (who was the cop) was gaining on me. i (tried) to jump over the fence, aaand i failed the jump and went crashing onto the gravel, my leg hitting the sharpest bit and, then the next thing i knew it had a nasty gash.\n"
     ]
    }
   ],
   "source": [
    "src_text = [input()]"
   ]
  },
  {
   "cell_type": "code",
   "execution_count": 24,
   "id": "mature-indiana",
   "metadata": {},
   "outputs": [
    {
     "data": {
      "text/plain": [
       "['this happened 5/6 years ago so my whole family every xmas day goes around to my aunties for celebrations. my cousin (of course) was there and he asked if i wanted to play cops and robbers. i accepted of course. now, next to the side of my aunts house is a little area with a small fence, a covered water tank and super duper sharp stones. my cousin (who was the cop) was gaining on me. i (tried) to jump over the fence, aaand i failed the jump and went crashing onto the gravel, my leg hitting the sharpest bit and, then the next thing i knew it had a nasty gash.']"
      ]
     },
     "execution_count": 24,
     "metadata": {},
     "output_type": "execute_result"
    }
   ],
   "source": [
    "src_text"
   ]
  },
  {
   "cell_type": "code",
   "execution_count": 14,
   "id": "hidden-thesaurus",
   "metadata": {},
   "outputs": [],
   "source": [
    "src_text = [\n",
    "    \"\"\"this happened 5/6 years ago so my whole family every xmas day goes around to my aunties for celebrations. my cousin (of course) was there and he\n",
    "asked if i wanted to play cops and robbers. i accepted of course. now, next to the side of my aunts house is a little area with a small fence, a covered\n",
    "water tank and super duper sharp stones. my cousin (who was the cop) was gaining on me. i (tried) to jump over the fence, aaand i failed the jump\n",
    "and went crashing onto the gravel, my leg hitting the sharpest bit and, then the next thing i knew it had a nasty gash.\"\"\"\n",
    "]"
   ]
  },
  {
   "cell_type": "code",
   "execution_count": 25,
   "id": "liquid-richmond",
   "metadata": {},
   "outputs": [],
   "source": [
    "batch = tokenizer(src_text,\n",
    "                    truncation = True,\n",
    "                    padding = 'longest',\n",
    "                    return_tensors = 'pt'\n",
    "                    ).to(torch_device)\n",
    "translated = model.generate(**batch)\n",
    "tgt_text = tokenizer.batch_decode(translated,\n",
    "                                 skip_special_tokens=True\n",
    "                                 )"
   ]
  },
  {
   "cell_type": "code",
   "execution_count": 26,
   "id": "formed-curtis",
   "metadata": {},
   "outputs": [
    {
     "data": {
      "text/plain": [
       "['This is the story of how i ended up with a nasty gash on my leg.']"
      ]
     },
     "execution_count": 26,
     "metadata": {},
     "output_type": "execute_result"
    }
   ],
   "source": [
    "tgt_text"
   ]
  },
  {
   "cell_type": "code",
   "execution_count": 44,
   "id": "authorized-ontario",
   "metadata": {},
   "outputs": [],
   "source": [
    "class Summarize():\n",
    "    def __init__(self, model_name, torch_device):\n",
    "        self.model_name = model_name\n",
    "        self.torch_device = torch_device\n",
    "        \n",
    "    def concatenate_summarizes(self, summaries):\n",
    "        final_input = ''\n",
    "        for summary in summaries:\n",
    "            final_input.join(summary + ' ')\n",
    "        return final_input\n",
    "    \n",
    "    def single_document_summarization(self, src_text):\n",
    "        tokenizer = PegasusTokenizer.from_pretrained(self.model_name)\n",
    "        model = PegasusForConditionalGeneration.from_pretrained(self.model_name).to(torch_device)\n",
    "        batch = tokenizer(src_text,\n",
    "                         truncation = True,\n",
    "                          padding = True,\n",
    "                          return_tensors = 'pt'\n",
    "                         ).to(self.torch_device)\n",
    "        \n",
    "        translated = model.generate(**batch)\n",
    "        generated_summary = tokenizer.batch_decode(translated,\n",
    "                                                  skip_special_tokens = True\n",
    "                                                  )\n",
    "        return generated_summary"
   ]
  },
  {
   "cell_type": "code",
   "execution_count": 45,
   "id": "public-utilization",
   "metadata": {},
   "outputs": [],
   "source": [
    "if __name__ == '__main__':\n",
    "    model_name = 'google/pegasus-xsum'\n",
    "    torch_device = 'cuda' if torch.cuda.is_available() else 'cpu'\n",
    "    summarizer = Summarize(model_name, torch_device)"
   ]
  },
  {
   "cell_type": "code",
   "execution_count": 31,
   "id": "extended-nancy",
   "metadata": {},
   "outputs": [
    {
     "name": "stdout",
     "output_type": "stream",
     "text": [
      "this happened 5/6 years ago so my whole family every xmas day goes around to my aunties for celebrations. my cousin (of course) was there and he asked if i wanted to play cops and robbers. i accepted of course. now, next to the side of my aunts house is a little area with a small fence, a covered water tank and super duper sharp stones. my cousin (who was the cop) was gaining on me. i (tried) to jump over the fence, aaand i failed the jump and went crashing onto the gravel, my leg hitting the sharpest bit and, then the next thing i knew it had a nasty gash.\n"
     ]
    }
   ],
   "source": [
    "src_text = [input()]"
   ]
  },
  {
   "cell_type": "code",
   "execution_count": 46,
   "id": "australian-jamaica",
   "metadata": {},
   "outputs": [
    {
     "name": "stdout",
     "output_type": "stream",
     "text": [
      "['This is the story of how i ended up with a nasty gash on my leg.']\n"
     ]
    }
   ],
   "source": [
    "single_document_summary = summarizer.single_document_summarization(src_text)\n",
    "print(single_document_summary)"
   ]
  },
  {
   "cell_type": "code",
   "execution_count": null,
   "id": "incident-lottery",
   "metadata": {},
   "outputs": [],
   "source": []
  }
 ],
 "metadata": {
  "kernelspec": {
   "display_name": "Python 3",
   "language": "python",
   "name": "python3"
  },
  "language_info": {
   "codemirror_mode": {
    "name": "ipython",
    "version": 3
   },
   "file_extension": ".py",
   "mimetype": "text/x-python",
   "name": "python",
   "nbconvert_exporter": "python",
   "pygments_lexer": "ipython3",
   "version": "3.8.8"
  }
 },
 "nbformat": 4,
 "nbformat_minor": 5
}
